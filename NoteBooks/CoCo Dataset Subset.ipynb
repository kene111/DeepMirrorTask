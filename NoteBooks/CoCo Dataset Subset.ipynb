{
 "cells": [
  {
   "cell_type": "code",
   "execution_count": 1,
   "metadata": {},
   "outputs": [],
   "source": [
    "from pycocotools.coco import COCO\n",
    "import requests\n",
    "import os\n",
    "from os.path import join\n",
    "from tqdm import tqdm\n",
    "import json"
   ]
  },
  {
   "cell_type": "code",
   "execution_count": 2,
   "metadata": {},
   "outputs": [],
   "source": [
    "class coco_category_filter:\n",
    "    \"\"\"\n",
    "    Downloads images of one category & filters jsons\n",
    "    to only keep annotations of this category\n",
    "    \"\"\"\n",
    "\n",
    "    def __init__(self, json_path, _categ):\n",
    "        self.coco = COCO(json_path)  # instanciate coco class\n",
    "        self.categ = ''\n",
    "        self.images = self.get_imgs_from_json(_categ)\n",
    "\n",
    "    def get_imgs_from_json(self, _categ):\n",
    "        \"\"\"returns image names of the desired category\"\"\"\n",
    "        # Get category ids\n",
    "        self.catIds = self.coco.getCatIds(catNms=_categ)\n",
    "        assert len(self.catIds) > 0, \"[ERROR] cannot find category index for {}\".format(_categ)\n",
    "        print(\"catIds: \", self.catIds)\n",
    "        # Get the corresponding image ids and images using loadImgs\n",
    "        imgIds = []\n",
    "        for c in self.catIds:\n",
    "            imgIds += self.coco.getImgIds(catIds=c)  # get images over categories (logical OR)\n",
    "        imgIds = list(set(imgIds))  # remove duplicates\n",
    "        images = self.coco.loadImgs(imgIds)\n",
    "        print(f\"{len(images)} images of '{self.categ}' instances\")\n",
    "        return images\n",
    "\n",
    "    def save_imgs(self, imgs_dir):\n",
    "        \"\"\"saves the images of this category\"\"\"\n",
    "        print(\"Saving the images with required categories ...\")\n",
    "        os.makedirs(imgs_dir, exist_ok=True)\n",
    "        # Save the images into a local folder\n",
    "        for im in tqdm(self.images):\n",
    "            img_data = requests.get(im['coco_url']).content\n",
    "            with open(os.path.join(imgs_dir, im['file_name']), 'wb') as handler:\n",
    "                handler.write(img_data)\n",
    "\n",
    "    def filter_json_by_category(self, json_dir):\n",
    "        \"\"\"creates a new json with the desired category\"\"\"\n",
    "        # {'supercategory': 'person', 'id': 1, 'name': 'person'}\n",
    "        ### Filter images:\n",
    "        print(\"Filtering the annotations ... \")\n",
    "        imgs_ids = [x['id'] for x in self.images]  # get img_ids of imgs with the category (prefiltered)\n",
    "        new_imgs = [x for x in self.coco.dataset['images'] if x['id'] in imgs_ids]  # select images by img_ids\n",
    "        catIds = self.catIds\n",
    "        ### Filter annotations\n",
    "        new_annots = [x for x in self.coco.dataset['annotations'] if x['category_id'] in catIds]  # select annotations based on category id\n",
    "        ### Reorganize the ids (note for reordering subset 1-N)\n",
    "        #new_imgs, annotations = self.modify_ids(new_imgs, new_annots)\n",
    "        ### Filter categories\n",
    "        new_categories = [x for x in self.coco.dataset['categories'] if x['id'] in catIds]\n",
    "        print(\"new_categories: \", new_categories)\n",
    "        data = {\n",
    "            \"info\": self.coco.dataset['info'],\n",
    "            \"licenses\": self.coco.dataset['licenses'],\n",
    "            \"images\": new_imgs,\n",
    "            \"annotations\": new_annots,\n",
    "            \"categories\": new_categories\n",
    "        }\n",
    "        print(\"saving json: \")\n",
    "        with open(os.path.join(json_dir, \"coco_annotation.json\"), 'w') as f:\n",
    "            json.dump(data, f)\n",
    "\n",
    "    def modify_ids(self, images, annotations):\n",
    "        \"\"\"\n",
    "        creates new ids for the images. I.e., maps existing image id to new subset image id and returns the dictionaries back\n",
    "        images: list of images dictionaries\n",
    "\n",
    "        images[n]['id']                                     # id of image\n",
    "        annotations[n]['id']                                # id of annotation\n",
    "        images[n]['id'] --> annotations[n]['image_id']      # map 'id' of image to 'image_id' in annotation\n",
    "        \"\"\"\n",
    "        print(\"Reinitialicing images and annotation IDs ...\")\n",
    "        ### Images\n",
    "        map_old_to_new_id = {}  # necessary for the annotations!\n",
    "        for n, im in enumerate(images):\n",
    "            map_old_to_new_id[images[n]['id']] = n + 1  # dicto with old im_ids and new im_ids\n",
    "            images[n]['id'] = n + 1  # reorganize the ids\n",
    "        ### Annotations\n",
    "        for n, ann in enumerate(annotations):\n",
    "            annotations[n]['id'] = n + 1\n",
    "            old_image_id = annotations[n]['image_id']\n",
    "            annotations[n]['image_id'] = map_old_to_new_id[old_image_id]  # replace im_ids in the annotations as well\n",
    "        return images, annotations\n",
    "\n",
    "\n"
   ]
  },
  {
   "cell_type": "code",
   "execution_count": 3,
   "metadata": {},
   "outputs": [],
   "source": [
    "def main(subset, year, root_dir, categories, experiment):\n",
    "    json_file = join(root_dir, 'annotations/instances_' + subset + year + '.json')  # local path\n",
    "\n",
    "    # Output files\n",
    "    img_dir = join(root_dir, experiment, 'images')\n",
    "    os.makedirs(img_dir, exist_ok=True)\n",
    "    json_dir = join(root_dir, experiment, 'annotations')\n",
    "    os.makedirs(json_dir, exist_ok=True)\n",
    "\n",
    "    # Methods\n",
    "    coco_filter = coco_category_filter(json_file, categories)  # instantiate class\n",
    "    coco_filter.save_imgs(img_dir)\n",
    "    coco_filter.filter_json_by_category(json_dir)"
   ]
  },
  {
   "cell_type": "code",
   "execution_count": null,
   "metadata": {},
   "outputs": [],
   "source": [
    "#coco = COCO('./annotations_trainval2017/annotations/instances_train2017.json')"
   ]
  },
  {
   "cell_type": "code",
   "execution_count": null,
   "metadata": {},
   "outputs": [],
   "source": [
    "#categories = coco.loadCats(coco.getCatIds())\n",
    "#nams=[cat['name'] for cat in categories]\n",
    "#print('COCO categories: \\n{}\\n'.format(' '.join(nams)))"
   ]
  },
  {
   "cell_type": "code",
   "execution_count": 4,
   "metadata": {},
   "outputs": [
    {
     "name": "stdout",
     "output_type": "stream",
     "text": [
      "loading annotations into memory...\n",
      "Done (t=117.67s)\n",
      "creating index...\n",
      "index created!\n",
      "catIds:  [7]\n",
      "3588 images of '' instances\n",
      "Saving the images with required categories ...\n"
     ]
    },
    {
     "name": "stderr",
     "output_type": "stream",
     "text": [
      "100%|████████████████████████████████████| 3588/3588 [1:34:53<00:00,  1.59s/it]\n"
     ]
    },
    {
     "name": "stdout",
     "output_type": "stream",
     "text": [
      "Filtering the annotations ... \n",
      "new_categories:  [{'supercategory': 'vehicle', 'id': 7, 'name': 'train'}]\n",
      "saving json: \n"
     ]
    }
   ],
   "source": [
    "subset, year = 'train', '2017'  # val - train\n",
    "root_dir = './annotations_trainval2017/'\n",
    "experiment = \"data_train\"\n",
    "categories = ['train']  # can be multiple categories\n",
    "main(subset, year, root_dir, categories, experiment)"
   ]
  },
  {
   "cell_type": "code",
   "execution_count": 5,
   "metadata": {},
   "outputs": [
    {
     "name": "stdout",
     "output_type": "stream",
     "text": [
      "done\n"
     ]
    }
   ],
   "source": [
    "print('done')"
   ]
  },
  {
   "cell_type": "code",
   "execution_count": 6,
   "metadata": {},
   "outputs": [
    {
     "name": "stdout",
     "output_type": "stream",
     "text": [
      "Still running ?\n"
     ]
    }
   ],
   "source": [
    "print('Still running ?')"
   ]
  },
  {
   "cell_type": "code",
   "execution_count": null,
   "metadata": {},
   "outputs": [],
   "source": []
  }
 ],
 "metadata": {
  "kernelspec": {
   "display_name": "Python 3",
   "language": "python",
   "name": "python3"
  },
  "language_info": {
   "codemirror_mode": {
    "name": "ipython",
    "version": 3
   },
   "file_extension": ".py",
   "mimetype": "text/x-python",
   "name": "python",
   "nbconvert_exporter": "python",
   "pygments_lexer": "ipython3",
   "version": "3.7.6"
  }
 },
 "nbformat": 4,
 "nbformat_minor": 4
}
